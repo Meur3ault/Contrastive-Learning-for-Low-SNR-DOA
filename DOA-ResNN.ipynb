{
 "cells": [
  {
   "cell_type": "code",
   "execution_count": 1,
   "metadata": {},
   "outputs": [],
   "source": [
    "import torch\n",
    "import torch.nn as nn\n",
    "import torch.nn.functional as F\n",
    "import torch.optim as optim\n",
    "import numpy as np\n",
    "\n",
    "DEVICE=torch.device('cuda')"
   ]
  },
  {
   "cell_type": "code",
   "execution_count": 2,
   "metadata": {},
   "outputs": [],
   "source": [
    "class Net(nn.Module):\n",
    "    def __init__ (self,channel_conv,channel_nn,size):\n",
    "        super(Net,self).__init__()\n",
    "        \n",
    "        self.block0=nn.Sequential(\n",
    "            nn.Conv2d(in_channels=2, out_channels=channel_conv,kernel_size=3,padding=1),\n",
    "            nn.BatchNorm2d(channel_conv), #channel number\n",
    "            nn.LeakyReLU()\n",
    "        )\n",
    "        self.block1=nn.Sequential(\n",
    "            nn.Conv2d(in_channels=channel_conv, out_channels=channel_conv,kernel_size=3,padding=1),\n",
    "            nn.BatchNorm2d(channel_conv),\n",
    "            nn.LeakyReLU(),\n",
    "            nn.Conv2d(in_channels=channel_conv, out_channels=channel_conv,kernel_size=3,padding=1),\n",
    "            nn.BatchNorm2d(channel_conv)\n",
    "        )\n",
    "        self.fc0 = nn.Linear( 2*size*size ,channel_nn)\n",
    "        self.fc1 = nn.Linear(channel_conv*size*size,channel_nn)\n",
    "        self.fc2 = nn.Linear(channel_nn,channel_nn)\n",
    "        self.fc3 = nn.Linear(channel_nn, 1)\n",
    "        \n",
    "        \n",
    "    def forward(self,x):\n",
    "        in_size = x.size(0)\n",
    "  \n",
    "        out = x.view(in_size,-1) # ( m, 2*size*size)\n",
    "        out = self.fc0(out)     # ( 2*size*size to channel_nn)\n",
    "        out1 = F.leaky_relu(out) # First transform Layer\n",
    "        \n",
    "        out =  self.fc2(out1)\n",
    "        out = F.leaky_relu(out)\n",
    "        out1 = F.leaky_relu(out1+ self.fc2(out))\n",
    "        \n",
    "        out =  self.fc2(out1)\n",
    "        out = F.leaky_relu(out)\n",
    "        out1 = F.leaky_relu(out1+ self.fc2(out))\n",
    "        \n",
    "        out =  self.fc2(out1)\n",
    "        out = F.leaky_relu(out)\n",
    "        out1 = F.leaky_relu(out1+ self.fc2(out))\n",
    "        \n",
    "        out =  self.fc2(out1)\n",
    "        out = F.leaky_relu(out)\n",
    "        out1 = F.leaky_relu(out1+ self.fc2(out))\n",
    "        \n",
    "        out =  self.fc2(out1)\n",
    "        out = F.leaky_relu(out)\n",
    "        out1 = F.leaky_relu(out1+ self.fc2(out))\n",
    "        \n",
    "        out =  self.fc2(out1)\n",
    "        out = F.leaky_relu(out)\n",
    "        out1 = F.leaky_relu(out1+ self.fc2(out))\n",
    "        \n",
    "        out =  self.fc2(out1)\n",
    "        out = F.leaky_relu(out)\n",
    "        out1 = F.leaky_relu(out1+ self.fc2(out))\n",
    "        \n",
    "        out =  self.fc2(out1)\n",
    "        out = F.leaky_relu(out)\n",
    "        out1 = F.leaky_relu(out1+ self.fc2(out))\n",
    "        \n",
    "        out =  self.fc2(out1)\n",
    "        out = F.leaky_relu(out)\n",
    "        out1 = F.leaky_relu(out1+ self.fc2(out))\n",
    "        \n",
    "        \n",
    "        out = self.fc3(out1)\n",
    "        \n",
    "        return out\n",
    "        "
   ]
  },
  {
   "cell_type": "code",
   "execution_count": 3,
   "metadata": {},
   "outputs": [],
   "source": [
    "BATCH_SIZE=256\n",
    "EPOCHS = 30\n",
    "SIZE=8\n",
    "CHANNEL_NN= 512\n",
    "CHANNEL_CONV = 64"
   ]
  },
  {
   "cell_type": "code",
   "execution_count": 18,
   "metadata": {},
   "outputs": [],
   "source": [
    "model = Net(channel_conv = CHANNEL_CONV,channel_nn = CHANNEL_NN,size = SIZE).to(DEVICE)"
   ]
  },
  {
   "cell_type": "code",
   "execution_count": 19,
   "metadata": {},
   "outputs": [],
   "source": [
    "X1 = np.load(r'E:\\modules\\data\\Covariance60_randomdb_-20~0_2.npy')\n",
    "Y1 = np.load(r'E:\\modules\\data\\lable60_randomdb_-20~0_2.npy')\n",
    "criterion = nn.MSELoss()\n",
    "X1_train,X1_test = X1[0:190000,:,:,:],X1[990000:1000000,:,:,:]\n",
    "Y1_train,Y1_test = Y1[0:190000,:],Y1[990000:1000000,:]\n",
    "x,x1 = torch.from_numpy(X1_train).float(),torch.from_numpy(X1_test).float()\n",
    "y,y1 = torch.from_numpy(Y1_train).long(),torch.from_numpy(Y1_test).long()\n",
    "train_data = torch.utils.data.TensorDataset(x,y)\n",
    "test_data = torch.utils.data.TensorDataset(x1,y1)\n",
    "train_loader = torch.utils.data.DataLoader(train_data,batch_size=BATCH_SIZE,shuffle=True)\n",
    "test_loader = torch.utils.data.DataLoader(test_data,batch_size=BATCH_SIZE,shuffle=True)"
   ]
  },
  {
   "cell_type": "code",
   "execution_count": 6,
   "metadata": {},
   "outputs": [],
   "source": [
    "def train(model, device, train_loader, test_loader,optimizer, epoch):\n",
    "    model.train()\n",
    "    for batch_idx,(data,target) in enumerate(train_loader):  \n",
    "        data, target = data.to(device), target.to(device)\n",
    "        optimizer.zero_grad()\n",
    "        output = model(data)\n",
    "        loss1 = torch.sqrt(criterion(output,target.float()))\n",
    "        loss1.backward()\n",
    "        optimizer.step()\n",
    "        if(batch_idx+1)%100 == 0: \n",
    "            model.eval()\n",
    "            test_out=model(x1.to(device))\n",
    "            loss2 = torch.sqrt( criterion(test_out,y1.float().to(device)))\n",
    "            print('Train Epoch: {} [{}/{}] Train Loss: {:.6f} || Test Loss:{:.6f}'.format(\n",
    "                epoch,(batch_idx+1) * len(data),len(train_loader.dataset),loss1.item(),loss2.item()))"
   ]
  },
  {
   "cell_type": "code",
   "execution_count": 26,
   "metadata": {},
   "outputs": [],
   "source": [
    "BATCH_SIZE = 512\n",
    "EPOCHS = 2\n",
    "optimizer = optim.Adam(model.parameters(),lr=0.000003)\n",
    "SIZE=8\n",
    "CHANNEL_NN= 512\n",
    "CHANNEL_CONV = 64"
   ]
  },
  {
   "cell_type": "code",
   "execution_count": 27,
   "metadata": {
    "scrolled": true
   },
   "outputs": [
    {
     "name": "stdout",
     "output_type": "stream",
     "text": [
      "Train Epoch: 1 [51200/190000] Train Loss: 3.113825 || Test Loss:3.357899\n",
      "Train Epoch: 1 [102400/190000] Train Loss: 3.100776 || Test Loss:3.354762\n",
      "Train Epoch: 1 [153600/190000] Train Loss: 3.542022 || Test Loss:3.354680\n",
      "Train Epoch: 2 [51200/190000] Train Loss: 3.555429 || Test Loss:3.353069\n",
      "Train Epoch: 2 [102400/190000] Train Loss: 3.068089 || Test Loss:3.355487\n",
      "Train Epoch: 2 [153600/190000] Train Loss: 3.313504 || Test Loss:3.355757\n"
     ]
    }
   ],
   "source": [
    "for epoch in range(1, EPOCHS + 1):\n",
    "    train(model, DEVICE,train_loader,test_loader, optimizer, epoch)"
   ]
  },
  {
   "cell_type": "code",
   "execution_count": 71,
   "metadata": {},
   "outputs": [],
   "source": [
    "\n",
    "torch.save(model,'E:\\modules\\my_model_ResDNN_60_random_recog_-20~0.pth')"
   ]
  },
  {
   "cell_type": "code",
   "execution_count": null,
   "metadata": {},
   "outputs": [],
   "source": [
    "torch.cuda.empty_cache()"
   ]
  },
  {
   "cell_type": "code",
   "execution_count": 16,
   "metadata": {},
   "outputs": [
    {
     "name": "stdout",
     "output_type": "stream",
     "text": [
      "tensor(1.4576, device='cuda:0', grad_fn=<SqrtBackward>)\n"
     ]
    }
   ],
   "source": [
    "model.eval()\n",
    "test_out=model(x1.to(DEVICE))\n",
    "loss2 = torch.sqrt( criterion(test_out,y1.float().to(DEVICE)))\n",
    "print(loss2)"
   ]
  },
  {
   "cell_type": "code",
   "execution_count": 138,
   "metadata": {},
   "outputs": [
    {
     "data": {
      "text/plain": [
       "-2"
      ]
     },
     "execution_count": 138,
     "metadata": {},
     "output_type": "execute_result"
    }
   ],
   "source": [
    "y1[1].item()"
   ]
  },
  {
   "cell_type": "code",
   "execution_count": null,
   "metadata": {},
   "outputs": [],
   "source": [
    "model=torch.load('E:\\modules\\my_model4.pth').to(DEVICE)"
   ]
  },
  {
   "cell_type": "code",
   "execution_count": 7,
   "metadata": {},
   "outputs": [
    {
     "ename": "TypeError",
     "evalue": "'NoneType' object is not callable",
     "output_type": "error",
     "traceback": [
      "\u001b[1;31m---------------------------------------------------------------------------\u001b[0m",
      "\u001b[1;31mTypeError\u001b[0m                                 Traceback (most recent call last)",
      "\u001b[1;32m<ipython-input-7-6c54e95c12d4>\u001b[0m in \u001b[0;36m<module>\u001b[1;34m\u001b[0m\n\u001b[1;32m----> 1\u001b[1;33m \u001b[0mtorch\u001b[0m\u001b[1;33m.\u001b[0m\u001b[0mcuda_version\u001b[0m\u001b[1;33m(\u001b[0m\u001b[1;33m)\u001b[0m\u001b[1;33m\u001b[0m\u001b[1;33m\u001b[0m\u001b[0m\n\u001b[0m",
      "\u001b[1;31mTypeError\u001b[0m: 'NoneType' object is not callable"
     ]
    }
   ],
   "source": [
    "torch.cuda_version"
   ]
  },
  {
   "cell_type": "code",
   "execution_count": null,
   "metadata": {},
   "outputs": [],
   "source": []
  }
 ],
 "metadata": {
  "kernelspec": {
   "display_name": "Pytorch for Deeplearning",
   "language": "python",
   "name": "pytorch"
  },
  "language_info": {
   "codemirror_mode": {
    "name": "ipython",
    "version": 3
   },
   "file_extension": ".py",
   "mimetype": "text/x-python",
   "name": "python",
   "nbconvert_exporter": "python",
   "pygments_lexer": "ipython3",
   "version": "3.8.3"
  },
  "toc": {
   "base_numbering": 1,
   "nav_menu": {},
   "number_sections": true,
   "sideBar": true,
   "skip_h1_title": false,
   "title_cell": "Table of Contents",
   "title_sidebar": "Contents",
   "toc_cell": false,
   "toc_position": {},
   "toc_section_display": true,
   "toc_window_display": false
  }
 },
 "nbformat": 4,
 "nbformat_minor": 4
}
