{
 "cells": [
  {
   "cell_type": "code",
   "execution_count": 4,
   "metadata": {},
   "outputs": [],
   "source": [
    "import numpy as np\n",
    "pi=np.pi\n",
    "dtr=pi/180    #degree to radian\n",
    "rtd=180/pi    #radian to degree\n",
    "\n",
    "class signals():\n",
    "    \n",
    "    def __init__(self, aryn=8,dd=0.5,iwave=1,theta=30,snr=-40,n=10):\n",
    "        \n",
    "        if(aryn<iwave):\n",
    "            return \"aryn needs to be larger than iwave\"\n",
    "        if(n<=aryn):\n",
    "            return \"aryn needs to be smaller than snap \"\n",
    "        self.aryn=aryn     #number of array element\n",
    "        \n",
    "        self.dd=dd     #distance between array element\n",
    "        \n",
    "        self.d=np.array(np.linspace(0,(aryn-1)*dd,aryn))    #vector of element\n",
    "        \n",
    "        self.iwave=iwave     #number of signal\n",
    "        \n",
    "        self.theta=np.array(theta)   #angle of signal\n",
    "        \n",
    "        self.snr,self.n=snr,n      #snr and snap number\n",
    "        \n",
    "        A=np.exp(-1j*2*pi*np.outer(self.d.T,np.sin(self.theta*dtr))) \n",
    "        self.sterV=A\n",
    "        #steering vector, zero in the front, vertical with array, clockwise rotating \n",
    "        \n",
    "        S=10**(snr/20)*np.random.randn(iwave,n)   #signal value, emulating snapping by augment matrix\n",
    "        \n",
    "        X=np.mat(np.dot(A,S)+ np.random.randn(aryn,n))    # received signal\n",
    "\n",
    "        self.RXX = np.zeros((2,8,8))\n",
    "        self.RXX[0] = ((X*X.H)/n).real\n",
    "        self.RXX[1] = ((X*X.H)/n).imag"
   ]
  },
  {
   "cell_type": "code",
   "execution_count": 33,
   "metadata": {},
   "outputs": [
    {
     "name": "stderr",
     "output_type": "stream",
     "text": [
      "<ipython-input-33-96aa0431931c>:6: DeprecationWarning: This function is deprecated. Please call randint(-90, 90 + 1) instead\n",
      "  E=np.random.random_integers(-90,90,1).tolist()[0]\n"
     ]
    }
   ],
   "source": [
    "Info=np.zeros((400000,2,8,8))\n",
    "lable=np.zeros((400000,1))\n",
    "for i in np.linspace(0,399999,400000,dtype='int'):\n",
    "    B= 0\n",
    "    C=50\n",
    "    E=np.random.random_integers(-90,90,1).tolist()[0]\n",
    "    A=signals(aryn=8, dd=0.5, iwave=1, theta=E,snr=B,n=C)\n",
    "    lable[i]=E\n",
    "    Info[i]=A.RXX\n",
    "\n",
    "np.save(\"E:/modules/data/Covariance5.npy\",Info)\n",
    "np.save(\"E:/modules/data/lable5.npy\",lable)"
   ]
  },
  {
   "cell_type": "code",
   "execution_count": 86,
   "metadata": {
    "scrolled": true
   },
   "outputs": [
    {
     "data": {
      "text/plain": [
       "array([[ 1.08453026,  0.03256283,  0.10743503,  0.09966227,  0.02051906,\n",
       "         0.04795611, -0.11002792,  0.04262329],\n",
       "       [ 0.03256283,  0.88457943,  0.23244121,  0.18595787, -0.04671043,\n",
       "         0.06493979, -0.06690688, -0.1220595 ],\n",
       "       [ 0.10743503,  0.23244121,  1.06970513, -0.09113777,  0.1419485 ,\n",
       "         0.11042261,  0.00481855,  0.02972232],\n",
       "       [ 0.09966227,  0.18595787, -0.09113777,  0.96074887, -0.14395237,\n",
       "        -0.02416983,  0.02976112, -0.1705651 ],\n",
       "       [ 0.02051906, -0.04671043,  0.1419485 , -0.14395237,  1.31409623,\n",
       "         0.03891663, -0.14514482, -0.07025107],\n",
       "       [ 0.04795611,  0.06493979,  0.11042261, -0.02416983,  0.03891663,\n",
       "         1.19239404, -0.00398677, -0.01056506],\n",
       "       [-0.11002792, -0.06690688,  0.00481855,  0.02976112, -0.14514482,\n",
       "        -0.00398677,  1.08427527, -0.10199353],\n",
       "       [ 0.04262329, -0.1220595 ,  0.02972232, -0.1705651 , -0.07025107,\n",
       "        -0.01056506, -0.10199353,  0.80102587]])"
      ]
     },
     "execution_count": 86,
     "metadata": {},
     "output_type": "execute_result"
    }
   ],
   "source": [
    "H[399999]"
   ]
  },
  {
   "cell_type": "code",
   "execution_count": 87,
   "metadata": {},
   "outputs": [],
   "source": [
    "AN=np.load(\"E:/modules/data/lable2.npy\")"
   ]
  },
  {
   "cell_type": "code",
   "execution_count": 88,
   "metadata": {},
   "outputs": [
    {
     "data": {
      "text/plain": [
       "array([5.])"
      ]
     },
     "execution_count": 88,
     "metadata": {},
     "output_type": "execute_result"
    }
   ],
   "source": [
    "AN[399999]"
   ]
  },
  {
   "cell_type": "code",
   "execution_count": 27,
   "metadata": {},
   "outputs": [],
   "source": [
    "    A=signals(aryn=8, dd=0.5, iwave=1, theta=30,snr=0,n=50)"
   ]
  },
  {
   "cell_type": "code",
   "execution_count": 28,
   "metadata": {},
   "outputs": [
    {
     "data": {
      "text/plain": [
       "array([[ 0.00000000e+00,  1.10137395e+00,  6.23987693e-16,\n",
       "        -1.10137395e+00, -1.24797539e-15,  1.10137395e+00,\n",
       "         2.36107136e-15, -1.10137395e+00],\n",
       "       [-1.10137395e+00,  0.00000000e+00,  8.99710262e-01,\n",
       "         3.31256971e-01, -7.69388645e-01, -2.32207018e-01,\n",
       "         1.26798971e+00,  5.25391912e-02],\n",
       "       [-6.23987693e-16, -8.99710262e-01,  0.00000000e+00,\n",
       "         8.99710262e-01,  5.83568568e-16, -8.99710262e-01,\n",
       "        -1.21037016e-15,  8.99710262e-01],\n",
       "       [ 1.10137395e+00, -3.31256971e-01, -8.99710262e-01,\n",
       "         0.00000000e+00,  7.69388645e-01, -9.90499531e-02,\n",
       "        -1.26798971e+00,  2.78717780e-01],\n",
       "       [ 1.24797539e-15,  7.69388645e-01, -5.83568568e-16,\n",
       "        -7.69388645e-01,  0.00000000e+00,  7.69388645e-01,\n",
       "         2.12608579e-16, -7.69388645e-01],\n",
       "       [-1.10137395e+00,  2.32207018e-01,  8.99710262e-01,\n",
       "         9.90499531e-02, -7.69388645e-01,  0.00000000e+00,\n",
       "         1.26798971e+00, -1.79667827e-01],\n",
       "       [-2.36107136e-15, -1.26798971e+00,  1.21037016e-15,\n",
       "         1.26798971e+00, -2.12608579e-16, -1.26798971e+00,\n",
       "         0.00000000e+00,  1.26798971e+00],\n",
       "       [ 1.10137395e+00, -5.25391912e-02, -8.99710262e-01,\n",
       "        -2.78717780e-01,  7.69388645e-01,  1.79667827e-01,\n",
       "        -1.26798971e+00,  0.00000000e+00]])"
      ]
     },
     "execution_count": 28,
     "metadata": {},
     "output_type": "execute_result"
    }
   ],
   "source": [
    "A.RXX[1]"
   ]
  },
  {
   "cell_type": "code",
   "execution_count": 3,
   "metadata": {},
   "outputs": [
    {
     "name": "stderr",
     "output_type": "stream",
     "text": [
      "<ipython-input-3-07bc578c6797>:4: DeprecationWarning: This function is deprecated. Please call randint(-40, 0 + 1) instead\n",
      "  B = np.random.random_integers(-40,0,1).tolist()[0]\n",
      "<ipython-input-3-07bc578c6797>:6: DeprecationWarning: This function is deprecated. Please call randint(-60, 60 + 1) instead\n",
      "  E = np.random.random_integers(-60,60,1).tolist()[0]\n"
     ]
    }
   ],
   "source": [
    "Info=np.zeros((1000000,2,8,8))\n",
    "lable=np.zeros((1000000,1))\n",
    "for i in np.linspace(0,999999,1000000,dtype='int'):\n",
    "    B = np.random.random_integers(-20,0,1).tolist()[0]\n",
    "    C = 50\n",
    "    E = np.random.random_integers(-60,60,1).tolist()[0]\n",
    "    A = signals(aryn = 8, dd = 0.5, iwave = 1, theta = E,snr = B,n = C)\n",
    "    lable[i] = B\n",
    "    Info[i] = A.RXX\n",
    "\n",
    "np.save(\"E:/modules/data/Covariance60_randomdb_-20~0_2.npy\",Info)\n",
    "np.save(\"E:/modules/data/lable60_randomdb_-20~0_2.npy\",lable)"
   ]
  },
  {
   "cell_type": "code",
   "execution_count": 20,
   "metadata": {},
   "outputs": [
    {
     "data": {
      "text/plain": [
       "42.729182715007624"
      ]
     },
     "execution_count": 20,
     "metadata": {},
     "output_type": "execute_result"
    }
   ],
   "source": [
    "120*(np.random.rand()-0.5)"
   ]
  },
  {
   "cell_type": "code",
   "execution_count": 3,
   "metadata": {},
   "outputs": [
    {
     "data": {
      "text/plain": [
       "array([[-20.],\n",
       "       [  0.],\n",
       "       [  0.],\n",
       "       ...,\n",
       "       [ -2.],\n",
       "       [ -1.],\n",
       "       [-10.]])"
      ]
     },
     "execution_count": 3,
     "metadata": {},
     "output_type": "execute_result"
    }
   ],
   "source": [
    "lable"
   ]
  },
  {
   "cell_type": "code",
   "execution_count": null,
   "metadata": {},
   "outputs": [],
   "source": []
  }
 ],
 "metadata": {
  "kernelspec": {
   "display_name": "Python 3",
   "language": "python",
   "name": "python3"
  },
  "language_info": {
   "codemirror_mode": {
    "name": "ipython",
    "version": 3
   },
   "file_extension": ".py",
   "mimetype": "text/x-python",
   "name": "python",
   "nbconvert_exporter": "python",
   "pygments_lexer": "ipython3",
   "version": "3.8.3"
  },
  "toc": {
   "base_numbering": 1,
   "nav_menu": {},
   "number_sections": true,
   "sideBar": true,
   "skip_h1_title": false,
   "title_cell": "Table of Contents",
   "title_sidebar": "Contents",
   "toc_cell": false,
   "toc_position": {},
   "toc_section_display": true,
   "toc_window_display": false
  }
 },
 "nbformat": 4,
 "nbformat_minor": 4
}
